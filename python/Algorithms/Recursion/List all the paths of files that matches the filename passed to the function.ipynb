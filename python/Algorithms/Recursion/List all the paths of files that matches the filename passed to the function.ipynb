{
 "cells": [
  {
   "cell_type": "markdown",
   "metadata": {},
   "source": [
    "# List all the paths\n",
    "This program lists all the paths of files that matches the \"filename\" passed to the function"
   ]
  },
  {
   "cell_type": "code",
   "execution_count": 45,
   "metadata": {
    "collapsed": true
   },
   "outputs": [],
   "source": [
    "import os"
   ]
  },
  {
   "cell_type": "code",
   "execution_count": 52,
   "metadata": {},
   "outputs": [],
   "source": [
    "# change the directory when a path is supplied\n",
    "# similar to ~cd command\n",
    "def changeDir(path):\n",
    "#     new_dir = os.chdir(path)\n",
    "#     return new_dir\n",
    "    pass\n",
    "\n",
    "# should return True / False\n",
    "def isDir(path):\n",
    "    \"\"\" returns 'True' if the given path is a Directory \"\"\"\n",
    "    return os.path.isdir(path)\n",
    "\n",
    "# list all files in the given folder path\n",
    "# similar to ~ls command\n",
    "def listFiles(path):\n",
    "    \"\"\" Return a list containing the names of the entries in the directory given by path \"\"\"\n",
    "    return os.listdir(path)\n",
    "\n",
    "\n",
    "# func getallpath(fileName):\n",
    "# return list containg all the path of the files\n",
    "\n",
    "all_files_list = []\n",
    "\n",
    "def getAllPaths(start_path, filename):\n",
    "    \"\"\" returns all the file paths that matches the file 'filename' \"\"\"\n",
    "#     all_files_list = []\n",
    "    \n",
    "    files = listFiles(start_path)\n",
    "    for file_name in files:\n",
    "        full_link = start_path + '/' + file_name\n",
    "        \n",
    "        if isDir(full_link):\n",
    "            getAllPaths(full_link, filename)\n",
    "        else:\n",
    "            if file_name == filename:\n",
    "                all_files_list.append(full_link)\n",
    "    return all_files_list"
   ]
  },
  {
   "cell_type": "code",
   "execution_count": 53,
   "metadata": {},
   "outputs": [
    {
     "data": {
      "text/plain": [
       "['S:/recursive practice/newfolder/folder1/sample.txt.txt',\n",
       " 'S:/recursive practice/newfolder/folder2/folder1/sample.txt.txt',\n",
       " 'S:/recursive practice/newfolder/folder2/sample.txt.txt',\n",
       " 'S:/recursive practice/newfolder/folder3/sample.txt.txt',\n",
       " 'S:/recursive practice/newfolder/folder4/sample.txt.txt',\n",
       " 'S:/recursive practice/newfolder/folder5/folder1/sample.txt.txt',\n",
       " 'S:/recursive practice/newfolder/folder5/sample.txt.txt',\n",
       " 'S:/recursive practice/newfolder/sample.txt.txt']"
      ]
     },
     "execution_count": 53,
     "metadata": {},
     "output_type": "execute_result"
    }
   ],
   "source": [
    "# Put your path here\n",
    "start_path = \"S:/recursive practice/newfolder\" \n",
    "\n",
    "# Put your file here you want to search (use \"*.txt\" / \"*.png\" / \"*.exe\" for WILDCARD search)\n",
    "filename = \"sample.txt.txt\"\n",
    "\n",
    "getAllPaths(start_path, filename)"
   ]
  },
  {
   "cell_type": "code",
   "execution_count": null,
   "metadata": {
    "collapsed": true
   },
   "outputs": [],
   "source": []
  }
 ],
 "metadata": {
  "kernelspec": {
   "display_name": "Python 3",
   "language": "python",
   "name": "python3"
  },
  "language_info": {
   "codemirror_mode": {
    "name": "ipython",
    "version": 3
   },
   "file_extension": ".py",
   "mimetype": "text/x-python",
   "name": "python",
   "nbconvert_exporter": "python",
   "pygments_lexer": "ipython3",
   "version": "3.6.3"
  }
 },
 "nbformat": 4,
 "nbformat_minor": 2
}
